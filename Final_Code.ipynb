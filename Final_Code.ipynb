{
 "cells": [
  {
   "cell_type": "code",
   "execution_count": 1,
   "source": [
    "import quandl\n",
    "import matplotlib.pyplot as plt\n",
    "quandl.ApiConfig.api_key = 'bULWv51MebBBGL56KGys'\n",
    "\n",
    "start = '2021-11-01'\n",
    "end = '2022-02-15'\n",
    "\n",
    "days = quandl.get_table(\"QUOTEMEDIA/PRICES\", ticker = ['GOOG', 'AMZN', 'SNAP'],  qopts = { 'columns': ['ticker', 'date', 'adj_close']},  date = { 'gte': start, 'lte': end}, paginate = True)\n"
   ],
   "outputs": [],
   "metadata": {}
  },
  {
   "cell_type": "code",
   "execution_count": 14,
   "source": [
    "for stock in ['GOOG', 'AMZN']:\n",
    "    df = days[days['ticker'] == stock]\n",
    "    plt.plot(df['date'], df['adj_close'], label = stock)\n",
    "plt.legend()\n",
    "plt.title('Stock Prices since November 2020')\n",
    "plt.xticks(rotation = 90)\n",
    "plt.savefig('GOOG_AMZN.png',bbox_inches =\"tight\", pad_inches = 0.5, facecolor =\"w\")\n",
    "plt.show()"
   ],
   "outputs": [
    {
     "output_type": "display_data",
     "data": {
      "image/png": "[encoded data removed]",
      "text/plain": [
       "<Figure size 432x288 with 1 Axes>"
      ]
     },
     "metadata": {
      "needs_background": "light"
     }
    }
   ],
   "metadata": {}
  },
  {
   "cell_type": "code",
   "execution_count": 4,
   "source": [],
   "outputs": [
    {
     "output_type": "display_data",
     "data": {
      "text/plain": [
       "<Figure size 432x288 with 0 Axes>"
      ]
     },
     "metadata": {}
    }
   ],
   "metadata": {}
  },
  {
   "cell_type": "code",
   "execution_count": 7,
   "source": [
    "df.head(20)"
   ],
   "outputs": [
    {
     "output_type": "execute_result",
     "data": {
      "text/html": [
       "<div>\n",
       "<style scoped>\n",
       "    .dataframe tbody tr th:only-of-type {\n",
       "        vertical-align: middle;\n",
       "    }\n",
       "\n",
       "    .dataframe tbody tr th {\n",
       "        vertical-align: top;\n",
       "    }\n",
       "\n",
       "    .dataframe thead th {\n",
       "        text-align: right;\n",
       "    }\n",
       "</style>\n",
       "<table border=\"1\" class=\"dataframe\">\n",
       "  <thead>\n",
       "    <tr style=\"text-align: right;\">\n",
       "      <th></th>\n",
       "      <th>ticker</th>\n",
       "      <th>date</th>\n",
       "      <th>adj_close</th>\n",
       "    </tr>\n",
       "    <tr>\n",
       "      <th>None</th>\n",
       "      <th></th>\n",
       "      <th></th>\n",
       "      <th></th>\n",
       "    </tr>\n",
       "  </thead>\n",
       "  <tbody>\n",
       "    <tr>\n",
       "      <th>148</th>\n",
       "      <td>AMZN</td>\n",
       "      <td>2022-02-15</td>\n",
       "      <td>3130.21</td>\n",
       "    </tr>\n",
       "    <tr>\n",
       "      <th>149</th>\n",
       "      <td>AMZN</td>\n",
       "      <td>2022-02-14</td>\n",
       "      <td>3103.34</td>\n",
       "    </tr>\n",
       "    <tr>\n",
       "      <th>150</th>\n",
       "      <td>AMZN</td>\n",
       "      <td>2022-02-11</td>\n",
       "      <td>3065.87</td>\n",
       "    </tr>\n",
       "    <tr>\n",
       "      <th>151</th>\n",
       "      <td>AMZN</td>\n",
       "      <td>2022-02-10</td>\n",
       "      <td>3180.07</td>\n",
       "    </tr>\n",
       "    <tr>\n",
       "      <th>152</th>\n",
       "      <td>AMZN</td>\n",
       "      <td>2022-02-09</td>\n",
       "      <td>3223.79</td>\n",
       "    </tr>\n",
       "    <tr>\n",
       "      <th>153</th>\n",
       "      <td>AMZN</td>\n",
       "      <td>2022-02-08</td>\n",
       "      <td>3228.27</td>\n",
       "    </tr>\n",
       "    <tr>\n",
       "      <th>154</th>\n",
       "      <td>AMZN</td>\n",
       "      <td>2022-02-07</td>\n",
       "      <td>3158.71</td>\n",
       "    </tr>\n",
       "    <tr>\n",
       "      <th>155</th>\n",
       "      <td>AMZN</td>\n",
       "      <td>2022-02-04</td>\n",
       "      <td>3152.79</td>\n",
       "    </tr>\n",
       "    <tr>\n",
       "      <th>156</th>\n",
       "      <td>AMZN</td>\n",
       "      <td>2022-02-03</td>\n",
       "      <td>2776.91</td>\n",
       "    </tr>\n",
       "    <tr>\n",
       "      <th>157</th>\n",
       "      <td>AMZN</td>\n",
       "      <td>2022-02-02</td>\n",
       "      <td>3012.25</td>\n",
       "    </tr>\n",
       "    <tr>\n",
       "      <th>158</th>\n",
       "      <td>AMZN</td>\n",
       "      <td>2022-02-01</td>\n",
       "      <td>3023.87</td>\n",
       "    </tr>\n",
       "    <tr>\n",
       "      <th>159</th>\n",
       "      <td>AMZN</td>\n",
       "      <td>2022-01-31</td>\n",
       "      <td>2991.47</td>\n",
       "    </tr>\n",
       "    <tr>\n",
       "      <th>160</th>\n",
       "      <td>AMZN</td>\n",
       "      <td>2022-01-28</td>\n",
       "      <td>2879.56</td>\n",
       "    </tr>\n",
       "    <tr>\n",
       "      <th>161</th>\n",
       "      <td>AMZN</td>\n",
       "      <td>2022-01-27</td>\n",
       "      <td>2792.75</td>\n",
       "    </tr>\n",
       "    <tr>\n",
       "      <th>162</th>\n",
       "      <td>AMZN</td>\n",
       "      <td>2022-01-26</td>\n",
       "      <td>2777.45</td>\n",
       "    </tr>\n",
       "    <tr>\n",
       "      <th>163</th>\n",
       "      <td>AMZN</td>\n",
       "      <td>2022-01-25</td>\n",
       "      <td>2799.72</td>\n",
       "    </tr>\n",
       "    <tr>\n",
       "      <th>164</th>\n",
       "      <td>AMZN</td>\n",
       "      <td>2022-01-24</td>\n",
       "      <td>2890.88</td>\n",
       "    </tr>\n",
       "    <tr>\n",
       "      <th>165</th>\n",
       "      <td>AMZN</td>\n",
       "      <td>2022-01-21</td>\n",
       "      <td>2852.86</td>\n",
       "    </tr>\n",
       "    <tr>\n",
       "      <th>166</th>\n",
       "      <td>AMZN</td>\n",
       "      <td>2022-01-20</td>\n",
       "      <td>3033.35</td>\n",
       "    </tr>\n",
       "    <tr>\n",
       "      <th>167</th>\n",
       "      <td>AMZN</td>\n",
       "      <td>2022-01-19</td>\n",
       "      <td>3125.98</td>\n",
       "    </tr>\n",
       "  </tbody>\n",
       "</table>\n",
       "</div>"
      ],
      "text/plain": [
       "     ticker       date  adj_close\n",
       "None                             \n",
       "148    AMZN 2022-02-15    3130.21\n",
       "149    AMZN 2022-02-14    3103.34\n",
       "150    AMZN 2022-02-11    3065.87\n",
       "151    AMZN 2022-02-10    3180.07\n",
       "152    AMZN 2022-02-09    3223.79\n",
       "153    AMZN 2022-02-08    3228.27\n",
       "154    AMZN 2022-02-07    3158.71\n",
       "155    AMZN 2022-02-04    3152.79\n",
       "156    AMZN 2022-02-03    2776.91\n",
       "157    AMZN 2022-02-02    3012.25\n",
       "158    AMZN 2022-02-01    3023.87\n",
       "159    AMZN 2022-01-31    2991.47\n",
       "160    AMZN 2022-01-28    2879.56\n",
       "161    AMZN 2022-01-27    2792.75\n",
       "162    AMZN 2022-01-26    2777.45\n",
       "163    AMZN 2022-01-25    2799.72\n",
       "164    AMZN 2022-01-24    2890.88\n",
       "165    AMZN 2022-01-21    2852.86\n",
       "166    AMZN 2022-01-20    3033.35\n",
       "167    AMZN 2022-01-19    3125.98"
      ]
     },
     "metadata": {},
     "execution_count": 7
    }
   ],
   "metadata": {}
  },
  {
   "cell_type": "code",
   "execution_count": null,
   "source": [],
   "outputs": [],
   "metadata": {}
  }
 ],
 "metadata": {
  "orig_nbformat": 4,
  "language_info": {
   "name": "python",
   "version": "3.9.7",
   "mimetype": "text/x-python",
   "codemirror_mode": {
    "name": "ipython",
    "version": 3
   },
   "pygments_lexer": "ipython3",
   "nbconvert_exporter": "python",
   "file_extension": ".py"
  },
  "kernelspec": {
   "name": "python3",
   "display_name": "Python 3.9.7 64-bit ('QTvenv': venv)"
  },
  "interpreter": {
   "hash": "aa405eb0c7062d09e1bdfc2eeb276415dd5ac6e661b097c4a695440003870afc"
  }
 },
 "nbformat": 4,
 "nbformat_minor": 2
}